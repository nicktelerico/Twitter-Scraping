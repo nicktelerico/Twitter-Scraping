{
 "cells": [
  {
   "cell_type": "markdown",
   "metadata": {},
   "source": [
    "# Midterm Project"
   ]
  },
  {
   "cell_type": "markdown",
   "metadata": {},
   "source": [
    "## a) Connect to the Twitter API and load a list of positive and negative words.\n"
   ]
  },
  {
   "cell_type": "code",
   "execution_count": null,
   "metadata": {},
   "outputs": [],
   "source": [
    "import tweepy\n",
    "from time import sleep\n",
    "from sklearn.feature_extraction.text import TfidfVectorizer\n"
   ]
  },
  {
   "cell_type": "code",
   "execution_count": null,
   "metadata": {},
   "outputs": [],
   "source": [
    "\n",
    "# creating the 4 keys\n",
    "consumer_key = \"INSERT HERE\"\n",
    "consumer_secret = \"INSERT HERE\"\n",
    "access_token = \"INSERT HERE\"\n",
    "access_token_secret = \"INSERT HERE\"\n",
    "\n",
    "# authenticating\n",
    "auth = tweepy.OAuthHandler(consumer_key, consumer_secret)\n",
    "auth.set_access_token(access_token, access_token_secret)\n",
    "\n",
    "api = tweepy.API(auth)"
   ]
  },
  {
   "cell_type": "code",
   "execution_count": null,
   "metadata": {},
   "outputs": [],
   "source": [
    "# splitlines() remove the breakline character \\n from each list of words\n",
    "file = open('positive-words.txt', 'r')\n",
    "positive_words = file.read().splitlines() \n",
    "\n",
    "file = open('negative-words.txt', 'r')\n",
    "negative_words = file.read().splitlines() "
   ]
  },
  {
   "cell_type": "markdown",
   "metadata": {},
   "source": [
    "## b)\tWrite some code that continuously collects 5 tweets associated with a hashtag.\n"
   ]
  },
  {
   "cell_type": "code",
   "execution_count": null,
   "metadata": {},
   "outputs": [],
   "source": [
    "import time\n",
    "\n",
    "response = api.rate_limit_status()\n",
    "\n",
    "remaining_searches = response['resources']['search']['/search/tweets']\n",
    "\n",
    "# printing the search-related constraints\n",
    "print(remaining_searches)\n",
    "print(\"Reset time: \" + time.strftime('%Y-%m-%d %H:%M:%S', time.localtime(remaining_searches['reset'])))"
   ]
  },
  {
   "cell_type": "code",
   "execution_count": null,
   "metadata": {},
   "outputs": [],
   "source": [
    "# starting the infinite loop\n",
    "cumulative_score = 0\n",
    "corpus = []\n",
    "df = []\n",
    "while True:\n",
    "    # retrieve 5 tweets\n",
    "    search_results = api.search_tweets(q=\"#ISA414\", lang=\"en\", count=5)\n",
    "\n",
    "    # for each tweet in my search\n",
    "    for tweet in search_results:\n",
    "        # verify whether each individual tweet is new\n",
    "        if tweet.id not in df:\n",
    "            df.append(tweet.id)\n",
    "            # create corpus of single tweet\n",
    "            corpus = [tweet.text]\n",
    "            vectorizer   = TfidfVectorizer()\n",
    "            tfidf_values = vectorizer.fit_transform(corpus)\n",
    "            # calculate the score value\n",
    "            all_word_names  = vectorizer.get_feature_names_out()\n",
    "            #print(all_word_names)\n",
    "            doc0_word_index = tfidf_values[0,:].nonzero()[1]\n",
    "            #print(doc0_word_index)\n",
    "            doc0_word_names = [all_word_names[w] for w in doc0_word_index]\n",
    "            #print(doc0_word_names)\n",
    "            # counting the number of times each word in document 80 occurs in the positive and negative lists of words\n",
    "            count_positive_words = [positive_words.count(word) for word in doc0_word_names]\n",
    "            count_negative_words = [negative_words.count(word) for word in doc0_word_names]\n",
    "\n",
    "            # taking the difference between the sum of the above counts\n",
    "            score = sum(count_positive_words) - sum(count_negative_words)\n",
    "            #print(score)\n",
    "\n",
    "            # updating cumulative score\n",
    "            cumulative_score = cumulative_score + score\n",
    "\n",
    "            # print new tweets and their scores\n",
    "            print(\"Tweet: \",corpus[0], \"\\t\",\"Score: \" ,score)\n",
    "\n",
    "\n",
    "\n",
    "    # print current cumulative score\n",
    "    print(\"Current cumulative score is: \", cumulative_score)\n",
    "\n",
    "        \n",
    "\n",
    "\n",
    "\n",
    "    sleep(10)"
   ]
  },
  {
   "cell_type": "code",
   "execution_count": null,
   "metadata": {},
   "outputs": [],
   "source": [
    "#search_results"
   ]
  }
 ],
 "metadata": {
  "interpreter": {
   "hash": "1dad66442678a98f39e5b152fd943ae10a1faa89c25104c05e2c1e46874487d8"
  },
  "kernelspec": {
   "display_name": "Python 3.9.7 64-bit (windows store)",
   "name": "python3"
  },
  "language_info": {
   "codemirror_mode": {
    "name": "ipython",
    "version": 3
   },
   "file_extension": ".py",
   "mimetype": "text/x-python",
   "name": "python",
   "nbconvert_exporter": "python",
   "pygments_lexer": "ipython3",
   "version": "3.9.7"
  },
  "orig_nbformat": 4
 },
 "nbformat": 4,
 "nbformat_minor": 2
}
